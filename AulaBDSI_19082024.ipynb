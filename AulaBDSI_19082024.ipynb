{
  "nbformat": 4,
  "nbformat_minor": 0,
  "metadata": {
    "colab": {
      "provenance": [],
      "authorship_tag": "ABX9TyOX/DavkRnztE6UiIviTX4r",
      "include_colab_link": true
    },
    "kernelspec": {
      "name": "python3",
      "display_name": "Python 3"
    },
    "language_info": {
      "name": "python"
    }
  },
  "cells": [
    {
      "cell_type": "markdown",
      "metadata": {
        "id": "view-in-github",
        "colab_type": "text"
      },
      "source": [
        "<a href=\"https://colab.research.google.com/github/aannddrree/turmabancodedadosuniaraSI-2-2024/blob/main/AulaBDSI_19082024.ipynb\" target=\"_parent\"><img src=\"https://colab.research.google.com/assets/colab-badge.svg\" alt=\"Open In Colab\"/></a>"
      ]
    },
    {
      "cell_type": "code",
      "execution_count": 1,
      "metadata": {
        "colab": {
          "base_uri": "https://localhost:8080/"
        },
        "id": "kuMmizO2JleM",
        "outputId": "f970a4be-3244-4b9f-984d-d345a24b756f"
      },
      "outputs": [
        {
          "output_type": "stream",
          "name": "stdout",
          "text": [
            "Ola turma da uniara\n"
          ]
        }
      ],
      "source": [
        "print(\"Ola turma da uniara\")"
      ]
    },
    {
      "cell_type": "markdown",
      "source": [
        "***Agora vamos aprender como gerar um arquivo usando Python***"
      ],
      "metadata": {
        "id": "FJO1isVBKZ1Z"
      }
    },
    {
      "cell_type": "code",
      "source": [
        "# Nome do arquivo que será gerado:\n",
        "arquivo = \"arquivoMuitolegal.txt\"\n",
        "\n",
        "contador = 0\n",
        "\n",
        "#abrir o arquivo e gravar uma informação la dentro\n",
        "with open(arquivo, 'w') as f:\n",
        "    #exemplo para escrever no arquivo\n",
        "    while (contador < 1000):\n",
        "        f.write(\"Meu primeiro arquivo top usando python!\")\n",
        "        f.write(\"Linha 2 do meu arquivo top\")\n",
        "        contador += 1\n",
        "\n",
        "print(\"Arquivo gerado com sucesso!\")"
      ],
      "metadata": {
        "colab": {
          "base_uri": "https://localhost:8080/"
        },
        "id": "Z0oRgHOCKlOJ",
        "outputId": "e4307f59-219c-43e4-a3b7-8d02b75f39ab"
      },
      "execution_count": 8,
      "outputs": [
        {
          "output_type": "stream",
          "name": "stdout",
          "text": [
            "Arquivo gerado com sucesso!\n"
          ]
        }
      ]
    }
  ]
}